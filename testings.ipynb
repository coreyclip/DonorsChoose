{
 "cells": [
  {
   "cell_type": "code",
   "execution_count": 1,
   "metadata": {},
   "outputs": [],
   "source": [
    "import pandas as pd\n",
    "import numpy as np\n",
    "import pickle"
   ]
  },
  {
   "cell_type": "code",
   "execution_count": 4,
   "metadata": {},
   "outputs": [],
   "source": [
    "filez = '../../data/train.csv'\n",
    "df = pd.read_csv(filez, parse_dates=['project_submitted_datetime'])"
   ]
  },
  {
   "cell_type": "code",
   "execution_count": 5,
   "metadata": {},
   "outputs": [
    {
     "data": {
      "text/html": [
       "<div>\n",
       "<style>\n",
       "    .dataframe thead tr:only-child th {\n",
       "        text-align: right;\n",
       "    }\n",
       "\n",
       "    .dataframe thead th {\n",
       "        text-align: left;\n",
       "    }\n",
       "\n",
       "    .dataframe tbody tr th {\n",
       "        vertical-align: top;\n",
       "    }\n",
       "</style>\n",
       "<table border=\"1\" class=\"dataframe\">\n",
       "  <thead>\n",
       "    <tr style=\"text-align: right;\">\n",
       "      <th></th>\n",
       "      <th>id</th>\n",
       "      <th>teacher_id</th>\n",
       "      <th>teacher_prefix</th>\n",
       "      <th>school_state</th>\n",
       "      <th>project_submitted_datetime</th>\n",
       "      <th>project_grade_category</th>\n",
       "      <th>project_subject_categories</th>\n",
       "      <th>project_subject_subcategories</th>\n",
       "      <th>project_title</th>\n",
       "      <th>project_essay_1</th>\n",
       "      <th>project_essay_2</th>\n",
       "      <th>project_essay_3</th>\n",
       "      <th>project_essay_4</th>\n",
       "      <th>project_resource_summary</th>\n",
       "      <th>teacher_number_of_previously_posted_projects</th>\n",
       "      <th>project_is_approved</th>\n",
       "    </tr>\n",
       "  </thead>\n",
       "  <tbody>\n",
       "    <tr>\n",
       "      <th>0</th>\n",
       "      <td>p036502</td>\n",
       "      <td>484aaf11257089a66cfedc9461c6bd0a</td>\n",
       "      <td>Ms.</td>\n",
       "      <td>NV</td>\n",
       "      <td>2016-11-18 14:45:59</td>\n",
       "      <td>Grades PreK-2</td>\n",
       "      <td>Literacy &amp; Language</td>\n",
       "      <td>Literacy</td>\n",
       "      <td>Super Sight Word Centers</td>\n",
       "      <td>Most of my kindergarten students come from low...</td>\n",
       "      <td>I currently have a differentiated sight word c...</td>\n",
       "      <td>NaN</td>\n",
       "      <td>NaN</td>\n",
       "      <td>My students need 6 Ipod Nano's to create and d...</td>\n",
       "      <td>26</td>\n",
       "      <td>1</td>\n",
       "    </tr>\n",
       "  </tbody>\n",
       "</table>\n",
       "</div>"
      ],
      "text/plain": [
       "        id                        teacher_id teacher_prefix school_state  \\\n",
       "0  p036502  484aaf11257089a66cfedc9461c6bd0a            Ms.           NV   \n",
       "\n",
       "  project_submitted_datetime project_grade_category  \\\n",
       "0        2016-11-18 14:45:59          Grades PreK-2   \n",
       "\n",
       "  project_subject_categories project_subject_subcategories  \\\n",
       "0        Literacy & Language                      Literacy   \n",
       "\n",
       "              project_title  \\\n",
       "0  Super Sight Word Centers   \n",
       "\n",
       "                                     project_essay_1  \\\n",
       "0  Most of my kindergarten students come from low...   \n",
       "\n",
       "                                     project_essay_2 project_essay_3  \\\n",
       "0  I currently have a differentiated sight word c...             NaN   \n",
       "\n",
       "  project_essay_4                           project_resource_summary  \\\n",
       "0             NaN  My students need 6 Ipod Nano's to create and d...   \n",
       "\n",
       "   teacher_number_of_previously_posted_projects  project_is_approved  \n",
       "0                                            26                    1  "
      ]
     },
     "execution_count": 5,
     "metadata": {},
     "output_type": "execute_result"
    }
   ],
   "source": [
    "df.head(1)"
   ]
  },
  {
   "cell_type": "code",
   "execution_count": 6,
   "metadata": {},
   "outputs": [
    {
     "name": "stdout",
     "output_type": "stream",
     "text": [
      "<class 'pandas.core.frame.DataFrame'>\n",
      "RangeIndex: 182080 entries, 0 to 182079\n",
      "Data columns (total 16 columns):\n",
      "id                                              182080 non-null object\n",
      "teacher_id                                      182080 non-null object\n",
      "teacher_prefix                                  182076 non-null object\n",
      "school_state                                    182080 non-null object\n",
      "project_submitted_datetime                      182080 non-null datetime64[ns]\n",
      "project_grade_category                          182080 non-null object\n",
      "project_subject_categories                      182080 non-null object\n",
      "project_subject_subcategories                   182080 non-null object\n",
      "project_title                                   182080 non-null object\n",
      "project_essay_1                                 182080 non-null object\n",
      "project_essay_2                                 182080 non-null object\n",
      "project_essay_3                                 6374 non-null object\n",
      "project_essay_4                                 6374 non-null object\n",
      "project_resource_summary                        182080 non-null object\n",
      "teacher_number_of_previously_posted_projects    182080 non-null int64\n",
      "project_is_approved                             182080 non-null int64\n",
      "dtypes: datetime64[ns](1), int64(2), object(13)\n",
      "memory usage: 22.2+ MB\n"
     ]
    }
   ],
   "source": [
    "df.info()"
   ]
  },
  {
   "cell_type": "code",
   "execution_count": 7,
   "metadata": {},
   "outputs": [
    {
     "data": {
      "text/plain": [
       "array(['Ms.', 'Mrs.', 'Mr.', 'Teacher', 'Dr.', nan], dtype=object)"
      ]
     },
     "execution_count": 7,
     "metadata": {},
     "output_type": "execute_result"
    }
   ],
   "source": [
    "df['teacher_prefix']"
   ]
  },
  {
   "cell_type": "code",
   "execution_count": 8,
   "metadata": {},
   "outputs": [
    {
     "data": {
      "text/plain": [
       "fa2f220b537e8653fb48878ebb38044d    74\n",
       "df8a4b7ad173b57f7ac52e447cc24043    71\n",
       "1f64dcec848be8e95c4482cc845706b2    70\n",
       "ae67d8bbc64ec3bf7fd2db1297721160    58\n",
       "0d90f689080b0d740a62a51c7f362829    51\n",
       "062339e2c5ca3b602351bb02ffef9ae4    49\n",
       "7b17c95da53e3d1f011f84232ad01238    48\n",
       "4aa921b73a2e523720789ff9b53e6504    48\n",
       "9f49ba20aa1c28eb95dbad8b8edd2b69    48\n",
       "613ac392781124be92aecc0d8b251c43    47\n",
       "d1fe66a662ad4807b33f87d2a12fac8b    47\n",
       "19f24640d9da49f6f8b4c9938c049591    46\n",
       "be87a3b5310f15bee9794a636a0929b7    46\n",
       "cd7400347f6c17ca9c1fdb5adbecbbac    46\n",
       "b357af898fe06944813be328a2e1335a    45\n",
       "1be8ff2501f21dbe85a2fc87afb641e8    43\n",
       "1a8fd309463ad0d6603be484c5f90b1d    41\n",
       "7be1610f23ca55a033b74eedaf7cf694    41\n",
       "4416745560343f14a74dedcda4ec03b0    41\n",
       "967180903176eb433b8ab95a0c917201    41\n",
       "a958e1e5342da774ae2c511810767c45    40\n",
       "598b6f5dda5ed11dd4cd6ad8690ed9ae    40\n",
       "0d7b3cd172c5b19f83a0ed303f46b729    40\n",
       "607a99bfff1c1e24386fdb2968fe5c2d    39\n",
       "26730209ba164d3581dc7257ece69ccb    39\n",
       "84357490d0aeb3711ae4d1462fb51d01    38\n",
       "161003b94c2310d9ee64985e1027e5d3    38\n",
       "bde81494da38940f61e20ba7c9efdc69    38\n",
       "aab99469589f63a9ab6d086a7528ead5    37\n",
       "be8786b4a0f56e8beb28c5aa7409ba29    37\n",
       "                                    ..\n",
       "75d94e261e84429a7d0e4b617d8849db     1\n",
       "91edd12c2438b39758a765efd7b9bd8e     1\n",
       "080c4c40236e6b698db9bdd5627ac2f2     1\n",
       "103b5b95d38ac0cd12df8e0bce7eac60     1\n",
       "c5516f83bbf87bc844d8b334236f3d4e     1\n",
       "4526075699d3ab0f32ba24f8097ef321     1\n",
       "0a367e8d804c5cf0e4cce88d174ab872     1\n",
       "ef9a4baf7fb4ca0fec6783c3d7325858     1\n",
       "c86676f80310ddc1395d1d278c89af5a     1\n",
       "40ced98218d4575176fca726ab67dcdd     1\n",
       "5a2b011984357372f3a5641dd58dc1c5     1\n",
       "05c73ffa34e1f4d19bf4bddde90b892b     1\n",
       "b8d193ef44e4adf593fee5e61a22f4f5     1\n",
       "98dc5abb2eca3cc4b4a341e04e5ced31     1\n",
       "da299aa9a441b90a2129af25a5a19f09     1\n",
       "5d36230c27df4848353211361ba609f1     1\n",
       "5b1afb80b403b9e46d5d43e667f5831b     1\n",
       "663d6846079ae095187332ea869b809e     1\n",
       "422512e2d0b7bb8df81def4746129b29     1\n",
       "fa46bba6808a824d1bee4db3364eca38     1\n",
       "967f40a17c4345ea5303df6e6bd9b979     1\n",
       "03ebb7bcf97917ba2f75221a5285e39e     1\n",
       "b4087d541fd7964b21d80eb2bcab838a     1\n",
       "4d892ac03c76fbbee8e03d23ef87acf4     1\n",
       "4bfb7a69d54304b91876c6296b1baa4f     1\n",
       "db596ee0e781483d3d3e9e9097bd179f     1\n",
       "bb0b7917c1d80c32c38a501a3822fa6a     1\n",
       "92fd15ac821239f8b9a746200688514c     1\n",
       "c0efaa93b93697bba53697ed1bd80baa     1\n",
       "450d585a616af00cd18efba6f4379848     1\n",
       "Name: teacher_id, Length: 104414, dtype: int64"
      ]
     },
     "execution_count": 8,
     "metadata": {},
     "output_type": "execute_result"
    }
   ],
   "source": [
    "df['teacher_id'].value_counts()"
   ]
  },
  {
   "cell_type": "code",
   "execution_count": 9,
   "metadata": {},
   "outputs": [
    {
     "data": {
      "text/plain": [
       "array([ 26,   1,   5,  16,  42,   0,  13,  12,   3,  11,  64,   6,  34,\n",
       "         8,  28,   9,   2,  49,  57,   4,  44,  19,  53,  35,   7,  10,\n",
       "        23, 151,  72,  18,  77,  24,  25,  14, 165,  20,  36,  92,  76,\n",
       "        22,  96,  87,  67, 115,  47, 160, 137,  17,  54,  15, 129,  84,\n",
       "        33,  74, 120,  45,  21,  46,  85, 103,  51,  56,  86,  29,  88,\n",
       "        58,  66,  37,  71,  32,  40, 154,  30,  31, 155,  80,  81, 150,\n",
       "        70,  43,  50, 130,  38, 209,  62, 114,  59,  41,  48, 125, 202,\n",
       "       122,  65,  79,  39, 102, 116,  90, 145, 174, 107,  75, 144,  98,\n",
       "        55, 118,  27,  61,  89,  82, 184, 356,  52, 104, 227,  83,  94,\n",
       "       126, 341, 141, 106, 148,  95, 332, 109, 133, 121, 171,  97, 351,\n",
       "       142, 167, 135, 190, 186, 175, 194, 140, 113,  60, 340, 119, 258,\n",
       "       138, 127,  91, 100, 180, 267, 282,  73,  63, 222, 132, 220, 168,\n",
       "       153,  69, 164, 277, 179, 205, 198, 117, 288,  78, 284, 257, 134,\n",
       "        93, 147, 313,  68, 105, 303, 323,  99, 203, 111, 212, 261, 158,\n",
       "       240, 163, 185, 108, 166, 149, 123, 262, 146, 265, 172, 247, 208,\n",
       "       249, 228, 229, 292, 201, 331, 188, 177, 206, 159, 311, 291, 196,\n",
       "       195, 299, 191, 253, 183, 271, 124, 178, 310, 156, 197, 152, 213,\n",
       "       238, 386, 101, 219, 128, 254, 349, 136, 295, 182, 143, 162, 362,\n",
       "       139, 376, 157, 110, 440, 338, 187, 255, 214, 297, 354, 269, 387,\n",
       "       131, 289, 112, 391, 259, 342, 225, 210, 232, 207, 200, 416, 217,\n",
       "       256, 273, 307, 325, 170, 308, 345, 379, 218, 335, 392, 407, 378,\n",
       "       274, 176, 192, 215, 314, 370, 193, 268, 169, 230, 251, 372, 241,\n",
       "       224, 245, 248, 382, 290, 286, 173, 161, 294, 234, 252, 181, 309,\n",
       "       189, 275, 353, 285, 226, 366, 231, 394, 312, 298, 304, 373, 344,\n",
       "       330, 388, 239, 450, 211, 260, 216, 270, 199, 319, 204, 283, 397,\n",
       "       235, 221, 223, 346, 333, 246, 302, 359, 432, 237, 375, 266, 279,\n",
       "       423, 339, 347, 322, 328, 233, 243, 429, 321, 244, 343, 431, 264,\n",
       "       276, 428, 317, 363, 316, 236, 287, 348, 272, 242, 364, 410, 365,\n",
       "       352, 451, 281, 435, 296, 422, 433, 306, 320, 278, 367, 395, 425,\n",
       "       280, 377, 406, 329, 300, 293, 404, 337, 441, 361, 326, 318, 324,\n",
       "       263, 305, 350, 336, 434, 443, 301, 250, 315, 389, 437], dtype=int64)"
      ]
     },
     "execution_count": 9,
     "metadata": {},
     "output_type": "execute_result"
    }
   ],
   "source": [
    "df['teacher_number_of_previously_posted_projects'].unique()"
   ]
  },
  {
   "cell_type": "code",
   "execution_count": null,
   "metadata": {},
   "outputs": [],
   "source": [
    "dictionary = {\n",
    "    'teacher_prefix': list(train['teacher_prefix']),\n",
    "    'school_state': list(train['school_state']),\n",
    "    'project_grade_category': list(train['project_grade_category']),\n",
    "    'project_subject_categories': list(train['project_subject_categories']),\n",
    "    'project_subject_subcategories': list(train['project_subject_subcategories'])\n",
    "}"
   ]
  },
  {
   "cell_type": "code",
   "execution_count": 41,
   "metadata": {},
   "outputs": [],
   "source": [
    "from datetime import datetime\n",
    "now = datetime.now()\n",
    "timedict = {\n",
    "    'year': int(now.strftime('%Y')),\n",
    "    'month': int(now.strftime('%m')),\n",
    "    'date': int(now.strftime('%d')),\n",
    "    'day_of_week': int(now.strftime('%w')),\n",
    "    'hour': int(now.strftime('%H')),\n",
    "    'minute': int(now.strftime('%M'))\n",
    "}"
   ]
  },
  {
   "cell_type": "code",
   "execution_count": 42,
   "metadata": {},
   "outputs": [
    {
     "data": {
      "text/plain": [
       "{'date': 30,\n",
       " 'day_of_week': 6,\n",
       " 'hour': 13,\n",
       " 'minute': 43,\n",
       " 'month': 6,\n",
       " 'year': 2018}"
      ]
     },
     "execution_count": 42,
     "metadata": {},
     "output_type": "execute_result"
    }
   ],
   "source": [
    "timedict"
   ]
  },
  {
   "cell_type": "code",
   "execution_count": 39,
   "metadata": {},
   "outputs": [
    {
     "name": "stdout",
     "output_type": "stream",
     "text": [
      "2018-06-30 13:24:48.329517\n"
     ]
    }
   ],
   "source": [
    "print(now)"
   ]
  },
  {
   "cell_type": "code",
   "execution_count": 40,
   "metadata": {},
   "outputs": [
    {
     "data": {
      "text/plain": [
       "30"
      ]
     },
     "execution_count": 40,
     "metadata": {},
     "output_type": "execute_result"
    }
   ],
   "source": [
    "\n",
    "int(now.strftime('%d'))"
   ]
  },
  {
   "cell_type": "code",
   "execution_count": 35,
   "metadata": {},
   "outputs": [
    {
     "data": {
      "text/plain": [
       "6"
      ]
     },
     "execution_count": 35,
     "metadata": {},
     "output_type": "execute_result"
    }
   ],
   "source": []
  },
  {
   "cell_type": "code",
   "execution_count": 36,
   "metadata": {},
   "outputs": [
    {
     "data": {
      "text/plain": [
       "'6'"
      ]
     },
     "execution_count": 36,
     "metadata": {},
     "output_type": "execute_result"
    }
   ],
   "source": []
  },
  {
   "cell_type": "code",
   "execution_count": 33,
   "metadata": {},
   "outputs": [
    {
     "data": {
      "text/plain": [
       "'13'"
      ]
     },
     "execution_count": 33,
     "metadata": {},
     "output_type": "execute_result"
    }
   ],
   "source": []
  },
  {
   "cell_type": "code",
   "execution_count": 37,
   "metadata": {},
   "outputs": [
    {
     "data": {
      "text/plain": [
       "'24'"
      ]
     },
     "execution_count": 37,
     "metadata": {},
     "output_type": "execute_result"
    }
   ],
   "source": []
  },
  {
   "cell_type": "code",
   "execution_count": null,
   "metadata": {},
   "outputs": [],
   "source": [
    "    df['year'] = df['project_submitted_datetime'].apply(lambda x: int(x.split('-')[0]))\n",
    "    df['month'] = df['project_submitted_datetime'].apply(lambda x: int(x.split('-')[1]))\n",
    "    df['date'] = df['project_submitted_datetime'].apply(lambda x: int(x.split(' ')[0].split('-')[2]))\n",
    "    df['day_of_week'] = pd.to_datetime(df['project_submitted_datetime']).dt.weekday\n",
    "    df['hour'] = df['project_submitted_datetime'].apply(lambda x: int(x.split(' ')[-1].split(':')[0]))\n",
    "    df['minute'] = df['project_submitted_datetime'].apply(lambda x: int(x.split(' ')[-1].split(':')[1]))\n",
    "    df['project_submitted_datetime'] = pd.to_datetime(df['project_submitted_datetime']).values.astype(np.int64)"
   ]
  }
 ],
 "metadata": {
  "kernelspec": {
   "display_name": "Python [default]",
   "language": "python",
   "name": "python3"
  },
  "language_info": {
   "codemirror_mode": {
    "name": "ipython",
    "version": 3
   },
   "file_extension": ".py",
   "mimetype": "text/x-python",
   "name": "python",
   "nbconvert_exporter": "python",
   "pygments_lexer": "ipython3",
   "version": "3.6.3"
  }
 },
 "nbformat": 4,
 "nbformat_minor": 2
}
