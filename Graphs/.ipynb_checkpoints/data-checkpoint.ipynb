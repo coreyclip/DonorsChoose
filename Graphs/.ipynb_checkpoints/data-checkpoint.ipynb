{
 "cells": [
  {
   "cell_type": "code",
   "execution_count": 15,
   "metadata": {},
   "outputs": [],
   "source": [
    "import pandas as pd\n",
    "import numpy as np"
   ]
  },
  {
   "cell_type": "code",
   "execution_count": 13,
   "metadata": {},
   "outputs": [],
   "source": [
    "resources = pd.read_csv('data/resources.csv')"
   ]
  },
  {
   "cell_type": "code",
   "execution_count": 16,
   "metadata": {},
   "outputs": [],
   "source": [
    "# Merge with resources\n",
    "res = pd.read_csv('data/resources.csv')\n",
    "res = pd.DataFrame(res[['id', 'quantity', 'price']].groupby('id').agg(\\\n",
    "    {\n",
    "        'quantity': [\n",
    "            'sum',\n",
    "            'min',\n",
    "            'max',\n",
    "            'mean',\n",
    "            'std',\n",
    "            # lambda x: len(np.unique(x)),\n",
    "        ],\n",
    "        'price': [\n",
    "            'count',\n",
    "            'sum',\n",
    "            'min',\n",
    "            'max',\n",
    "            'mean',\n",
    "            'std',\n",
    "            lambda x: len(np.unique(x)),\n",
    "        ]}\n",
    "    )).reset_index()\n",
    "res.columns = ['_'.join(col) for col in res.columns]\n",
    "res.rename(columns={'id_': 'id'}, inplace=True)\n",
    "res['mean_price'] = res['price_sum']/res['quantity_sum']"
   ]
  },
  {
   "cell_type": "code",
   "execution_count": 21,
   "metadata": {},
   "outputs": [
    {
     "data": {
      "text/plain": [
       "0.0"
      ]
     },
     "execution_count": 21,
     "metadata": {},
     "output_type": "execute_result"
    }
   ],
   "source": [
    "res['price_std'].min()"
   ]
  },
  {
   "cell_type": "code",
   "execution_count": 22,
   "metadata": {},
   "outputs": [
    {
     "data": {
      "text/plain": [
       "6128.982376222826"
      ]
     },
     "execution_count": 22,
     "metadata": {},
     "output_type": "execute_result"
    }
   ],
   "source": [
    "res['price_std'].max()"
   ]
  },
  {
   "cell_type": "code",
   "execution_count": null,
   "metadata": {},
   "outputs": [],
   "source": []
  }
 ],
 "metadata": {
  "kernelspec": {
   "display_name": "Python 3",
   "language": "python",
   "name": "python3"
  },
  "language_info": {
   "codemirror_mode": {
    "name": "ipython",
    "version": 3
   },
   "file_extension": ".py",
   "mimetype": "text/x-python",
   "name": "python",
   "nbconvert_exporter": "python",
   "pygments_lexer": "ipython3",
   "version": "3.6.3"
  }
 },
 "nbformat": 4,
 "nbformat_minor": 2
}
