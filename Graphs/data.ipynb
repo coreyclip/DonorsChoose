{
 "cells": [
  {
   "cell_type": "code",
   "execution_count": 15,
   "metadata": {},
   "outputs": [],
   "source": [
    "import pandas as pd\n",
    "import numpy as np"
   ]
  },
  {
   "cell_type": "code",
   "execution_count": 13,
   "metadata": {},
   "outputs": [],
   "source": [
    "resources = pd.read_csv('data/resources.csv')"
   ]
  },
  {
   "cell_type": "code",
   "execution_count": 16,
   "metadata": {},
   "outputs": [],
   "source": [
    "# Merge with resources\n",
    "res = pd.read_csv('data/resources.csv')\n",
    "res = pd.DataFrame(res[['id', 'quantity', 'price']].groupby('id').agg(\\\n",
    "    {\n",
    "        'quantity': [\n",
    "            'sum',\n",
    "            'min',\n",
    "            'max',\n",
    "            'mean',\n",
    "            'std',\n",
    "            # lambda x: len(np.unique(x)),\n",
    "        ],\n",
    "        'price': [\n",
    "            'count',\n",
    "            'sum',\n",
    "            'min',\n",
    "            'max',\n",
    "            'mean',\n",
    "            'std',\n",
    "            lambda x: len(np.unique(x)),\n",
    "        ]}\n",
    "    )).reset_index()\n",
    "res.columns = ['_'.join(col) for col in res.columns]\n",
    "res.rename(columns={'id_': 'id'}, inplace=True)\n",
    "res['mean_price'] = res['price_sum']/res['quantity_sum']"
   ]
  },
  {
   "cell_type": "code",
   "execution_count": 21,
   "metadata": {},
   "outputs": [
    {
     "data": {
      "text/plain": [
       "0.0"
      ]
     },
     "execution_count": 21,
     "metadata": {},
     "output_type": "execute_result"
    }
   ],
   "source": [
    "res['price_std'].min()"
   ]
  },
  {
   "cell_type": "code",
   "execution_count": 22,
   "metadata": {},
   "outputs": [
    {
     "data": {
      "text/plain": [
       "6128.982376222826"
      ]
     },
     "execution_count": 22,
     "metadata": {},
     "output_type": "execute_result"
    }
   ],
   "source": [
    "res['price_std'].max()"
   ]
  },
  {
   "cell_type": "code",
   "execution_count": 23,
   "metadata": {},
   "outputs": [
    {
     "data": {
      "text/plain": [
       "59.82837048515381"
      ]
     },
     "execution_count": 23,
     "metadata": {},
     "output_type": "execute_result"
    }
   ],
   "source": [
    "res['price_std'].mean()"
   ]
  },
  {
   "cell_type": "code",
   "execution_count": 26,
   "metadata": {},
   "outputs": [
    {
     "data": {
      "text/plain": [
       "24.500236340138777"
      ]
     },
     "execution_count": 26,
     "metadata": {},
     "output_type": "execute_result"
    }
   ],
   "source": [
    "res['price_std'].median()"
   ]
  },
  {
   "cell_type": "code",
   "execution_count": 24,
   "metadata": {},
   "outputs": [
    {
     "data": {
      "text/html": [
       "<div>\n",
       "<style scoped>\n",
       "    .dataframe tbody tr th:only-of-type {\n",
       "        vertical-align: middle;\n",
       "    }\n",
       "\n",
       "    .dataframe tbody tr th {\n",
       "        vertical-align: top;\n",
       "    }\n",
       "\n",
       "    .dataframe thead th {\n",
       "        text-align: right;\n",
       "    }\n",
       "</style>\n",
       "<table border=\"1\" class=\"dataframe\">\n",
       "  <thead>\n",
       "    <tr style=\"text-align: right;\">\n",
       "      <th></th>\n",
       "      <th>id</th>\n",
       "      <th>quantity_sum</th>\n",
       "      <th>quantity_min</th>\n",
       "      <th>quantity_max</th>\n",
       "      <th>quantity_mean</th>\n",
       "      <th>quantity_std</th>\n",
       "      <th>price_count</th>\n",
       "      <th>price_sum</th>\n",
       "      <th>price_min</th>\n",
       "      <th>price_max</th>\n",
       "      <th>price_mean</th>\n",
       "      <th>price_std</th>\n",
       "      <th>price_&lt;lambda&gt;</th>\n",
       "      <th>mean_price</th>\n",
       "    </tr>\n",
       "  </thead>\n",
       "  <tbody>\n",
       "    <tr>\n",
       "      <th>0</th>\n",
       "      <td>p000001</td>\n",
       "      <td>7</td>\n",
       "      <td>1</td>\n",
       "      <td>2</td>\n",
       "      <td>1.750000</td>\n",
       "      <td>0.500000</td>\n",
       "      <td>4</td>\n",
       "      <td>459.56</td>\n",
       "      <td>23.99</td>\n",
       "      <td>261.08</td>\n",
       "      <td>114.890000</td>\n",
       "      <td>101.929679</td>\n",
       "      <td>4.0</td>\n",
       "      <td>65.651429</td>\n",
       "    </tr>\n",
       "    <tr>\n",
       "      <th>1</th>\n",
       "      <td>p000002</td>\n",
       "      <td>21</td>\n",
       "      <td>1</td>\n",
       "      <td>4</td>\n",
       "      <td>1.500000</td>\n",
       "      <td>0.854850</td>\n",
       "      <td>14</td>\n",
       "      <td>515.89</td>\n",
       "      <td>8.46</td>\n",
       "      <td>134.90</td>\n",
       "      <td>36.849286</td>\n",
       "      <td>33.549557</td>\n",
       "      <td>13.0</td>\n",
       "      <td>24.566190</td>\n",
       "    </tr>\n",
       "    <tr>\n",
       "      <th>2</th>\n",
       "      <td>p000003</td>\n",
       "      <td>4</td>\n",
       "      <td>1</td>\n",
       "      <td>1</td>\n",
       "      <td>1.000000</td>\n",
       "      <td>0.000000</td>\n",
       "      <td>4</td>\n",
       "      <td>298.97</td>\n",
       "      <td>39.99</td>\n",
       "      <td>169.00</td>\n",
       "      <td>74.742500</td>\n",
       "      <td>63.014906</td>\n",
       "      <td>3.0</td>\n",
       "      <td>74.742500</td>\n",
       "    </tr>\n",
       "    <tr>\n",
       "      <th>3</th>\n",
       "      <td>p000004</td>\n",
       "      <td>98</td>\n",
       "      <td>1</td>\n",
       "      <td>2</td>\n",
       "      <td>1.031579</td>\n",
       "      <td>0.175804</td>\n",
       "      <td>95</td>\n",
       "      <td>1113.69</td>\n",
       "      <td>1.60</td>\n",
       "      <td>401.54</td>\n",
       "      <td>11.723053</td>\n",
       "      <td>40.608577</td>\n",
       "      <td>36.0</td>\n",
       "      <td>11.364184</td>\n",
       "    </tr>\n",
       "    <tr>\n",
       "      <th>4</th>\n",
       "      <td>p000005</td>\n",
       "      <td>8</td>\n",
       "      <td>1</td>\n",
       "      <td>3</td>\n",
       "      <td>2.000000</td>\n",
       "      <td>1.154701</td>\n",
       "      <td>4</td>\n",
       "      <td>485.99</td>\n",
       "      <td>54.08</td>\n",
       "      <td>323.75</td>\n",
       "      <td>121.497500</td>\n",
       "      <td>134.835000</td>\n",
       "      <td>2.0</td>\n",
       "      <td>60.748750</td>\n",
       "    </tr>\n",
       "  </tbody>\n",
       "</table>\n",
       "</div>"
      ],
      "text/plain": [
       "        id  quantity_sum  quantity_min  quantity_max  quantity_mean  \\\n",
       "0  p000001             7             1             2       1.750000   \n",
       "1  p000002            21             1             4       1.500000   \n",
       "2  p000003             4             1             1       1.000000   \n",
       "3  p000004            98             1             2       1.031579   \n",
       "4  p000005             8             1             3       2.000000   \n",
       "\n",
       "   quantity_std  price_count  price_sum  price_min  price_max  price_mean  \\\n",
       "0      0.500000            4     459.56      23.99     261.08  114.890000   \n",
       "1      0.854850           14     515.89       8.46     134.90   36.849286   \n",
       "2      0.000000            4     298.97      39.99     169.00   74.742500   \n",
       "3      0.175804           95    1113.69       1.60     401.54   11.723053   \n",
       "4      1.154701            4     485.99      54.08     323.75  121.497500   \n",
       "\n",
       "    price_std  price_<lambda>  mean_price  \n",
       "0  101.929679             4.0   65.651429  \n",
       "1   33.549557            13.0   24.566190  \n",
       "2   63.014906             3.0   74.742500  \n",
       "3   40.608577            36.0   11.364184  \n",
       "4  134.835000             2.0   60.748750  "
      ]
     },
     "execution_count": 24,
     "metadata": {},
     "output_type": "execute_result"
    }
   ],
   "source": [
    "res.head()"
   ]
  },
  {
   "cell_type": "code",
   "execution_count": null,
   "metadata": {},
   "outputs": [],
   "source": []
  }
 ],
 "metadata": {
  "kernelspec": {
   "display_name": "Python 3",
   "language": "python",
   "name": "python3"
  },
  "language_info": {
   "codemirror_mode": {
    "name": "ipython",
    "version": 3
   },
   "file_extension": ".py",
   "mimetype": "text/x-python",
   "name": "python",
   "nbconvert_exporter": "python",
   "pygments_lexer": "ipython3",
   "version": "3.6.3"
  }
 },
 "nbformat": 4,
 "nbformat_minor": 2
}
