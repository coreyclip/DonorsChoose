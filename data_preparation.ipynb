{
 "cells": [
  {
   "cell_type": "code",
   "execution_count": 1,
   "metadata": {},
   "outputs": [],
   "source": [
    "import numpy as np\n",
    "import pandas as pd\n",
    "\n",
    "from sklearn.feature_extraction.text import TfidfVectorizer\n",
    "from sklearn.preprocessing import LabelEncoder"
   ]
  },
  {
   "cell_type": "code",
   "execution_count": null,
   "metadata": {},
   "outputs": [],
   "source": []
  },
  {
   "cell_type": "code",
   "execution_count": null,
   "metadata": {},
   "outputs": [],
   "source": [
    "def prepare_data(prefix, state, date, grade, subject_cat, subject_subcat, title, essay_1, essay_2, essay_3, essay_4, resource_summary, previous_project_num):\n",
    "    \"\"\"\n",
    "    Take in all of the information from our front end and prepare for algorithm insertion\n",
    "    \"\"\"\n",
    "    # First let's just make it all a nice little dataframe\n",
    "    df = pd.DataFrame({\n",
    "        'teacher_prefix': prefix,\n",
    "        'school_state': state,\n",
    "        'project_submitted_datetime': date,\n",
    "    'project_grade_category': grade,\n",
    "    'project_subject_categories': subject_cat,\n",
    "    'project_subject_subcategories': subject_subcat,\n",
    "    'project_title': title,\n",
    "    'project_essay_1': essay_1,\n",
    "    'project_essay_2': essay_2,\n",
    "    'project_essay_3': essay_3,\n",
    "    'project_essay_4': essay_4,\n",
    "    'project_resource_summary': resource_summary,\n",
    "    'teacher_number_of_previously_posted_projects': previous_project_num,\n",
    "    })\n",
    "\n",
    "    # Join up the essays into one big essay\n",
    "    df['project_essay'] = df.apply(lambda row: ' '.join([\n",
    "        str(row['project_essay_1']),\n",
    "        str(row['project_essay_2']),\n",
    "        str(row['project_essay_3']),\n",
    "        str(row['project_essay_4'])\n",
    "        ]), axis = 1)\n",
    "    \n",
    "        df['project_title_len'] = df['project_title'].apply(lambda x: len(str(x)))\n",
    "        df['project_essay_1_len'] = df['project_essay_1'].apply(lambda x: len(str(x)))\n",
    "        df['project_essay_2_len'] = df['project_essay_2'].apply(lambda x: len(str(x)))\n",
    "        df['project_essay_3_len'] = df['project_essay_3'].apply(lambda x: len(str(x)))\n",
    "        df['project_essay_4_len'] = df['project_essay_4'].apply(lambda x: len(str(x)))\n",
    "        df['project_resource_summary_len'] = df['project_resource_summary'].apply(lambda x: len(str(x)))\n",
    "\n",
    "        df['project_title_wc'] = df['project_title'].apply(lambda x: len(str(x).split(' ')))\n",
    "        df['project_essay_1_wc'] = df['project_essay_1'].apply(lambda x: len(str(x).split(' ')))\n",
    "        df['project_essay_2_wc'] = df['project_essay_2'].apply(lambda x: len(str(x).split(' ')))\n",
    "        df['project_essay_3_wc'] = df['project_essay_3'].apply(lambda x: len(str(x).split(' ')))\n",
    "        df['project_essay_4_wc'] = df['project_essay_4'].apply(lambda x: len(str(x).split(' ')))\n",
    "        df['project_resource_summary_wc'] = df['project_resource_summary'].apply(lambda x: len(str(x).split(' ')))"
   ]
  }
 ],
 "metadata": {
  "kernelspec": {
   "display_name": "Python [default]",
   "language": "python",
   "name": "python3"
  },
  "language_info": {
   "codemirror_mode": {
    "name": "ipython",
    "version": 3
   },
   "file_extension": ".py",
   "mimetype": "text/x-python",
   "name": "python",
   "nbconvert_exporter": "python",
   "pygments_lexer": "ipython3",
   "version": "3.6.3"
  }
 },
 "nbformat": 4,
 "nbformat_minor": 2
}
