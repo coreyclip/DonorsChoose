{
 "cells": [
  {
   "cell_type": "code",
   "execution_count": 6,
   "metadata": {},
   "outputs": [],
   "source": [
    "user_input = {\"project_title\": \"Poop\",\n",
    " \"teacher_prefix\": \"Mr.\",\n",
    "\"school_state\": \"SC\", \n",
    "\"project_submitted_datetime\": \n",
    "\"07/03/2018\", \n",
    "\"project_grade_category\": \"Grades 3-5\", \n",
    "\"project_subject_categories\": \"Math & Science\", \"project_subject_subcategories\": \"Character Education, Literacy\",\n",
    " \"teacher_number_of_previously_posted_projects\": \"3\", \"project_essay_1\": \"essay\", \"project_essay_2\": \"essay\",\n",
    "  \"project_essay_3\": \"\", \"project_essay_4\": \"\", \"project_resource_summary\": \"\", \"year\": 2018, \"month\": 7, \"date\": 3, \"day_of_week\": 2, \"hour\": 23, \"minute\": 33,\n",
    " \"project_essay\": \"essay essay  \", \n",
    " \"project_title_len\": 4,\n",
    "  \"project_essay_1_len\": 5, \n",
    "  \"project_essay_2_len\": 5, \n",
    "  \"project_essay_3_len\": 0, \n",
    "  \"project_essay_4_len\": 0, \n",
    "  \"project_title_wc\": 1, \n",
    "  \"project_essay_1_wc\": 1, \n",
    "  \"project_essay_2_wc\": 1,\n",
    "   \"project_essay_3_wc\": 1, \n",
    "   \"project_essay_4_wc\": 1, \n",
    "   \"project_resource_summary_len\": 0,\n",
    "    \"project_resource_summary_wc\": 0}"
   ]
  },
  {
   "cell_type": "code",
   "execution_count": 7,
   "metadata": {},
   "outputs": [],
   "source": [
    "def user_report(user_input):\n",
    "    grade_report = \"\"\n",
    "    subject_report = \"\"\n",
    "    essay_report = \"\"\n",
    "    \n",
    "    \n",
    "    total_wc = user_input[\"project_essay_1_wc\"] + user_input[\"project_essay_2_wc\"] + user_input[\"project_essay_3_wc\"] + user_input[\"project_essay_4_wc\"]\n",
    "    \n",
    "    average_wc = round(total_wc/4, 2)\n",
    "    \n",
    "    subject = user_input[\"project_subject_categories\"]\n",
    "    if subject in ['Literacy & Language', \"Math & Science\", \"Health & Sports\"]:\n",
    "        subject_report += f\"\"\"\n",
    "        your subject {subject} is in the top three most common categories applicants apply for, \n",
    "        subjects that are not in the top three: Health & Sports, Math & Science, Literacy & Language have\n",
    "        a slightly higher chance of being approved, though by listing a sub category this penalty is mostly nullified\n",
    "        \"\"\"\n",
    "    else:\n",
    "        subject_report += f\"\"\"\n",
    "        your subject {subject} is not in one of the the the top three subject catregories:\n",
    "        Health & Sports, Math & Science, or Literacy & Language,\n",
    "        subjects other than these have a slighly higher chance of being approved\n",
    "        providing a sub-category as well also increases your chances\n",
    "        \"\"\"\n",
    "        \n",
    "    if user_input[\"project_grade_category\"] == \"Grades 3-5\":\n",
    "        grade_report += \"\"\" Projects submitted for the 3rd to 5th grades have the\n",
    "        highest acceptance rate compared to other categories. Most projects tend to be\n",
    "        geared towards younger students. 70k projects were submitted for pre-k to 2nd grade students \n",
    "        vs. 17k for high school students. \n",
    "        \"\"\"\n",
    "    elif user_input[\"project_grade_category\"] == \"Grades 9-12\":\n",
    "        grade_report += \"\"\" Projects submitted for High School students have a slightly\n",
    "        lower chance of being funded. This is in part because their projects are generally\n",
    "        more expensive.\n",
    "        \"\"\"\n",
    "    else:\n",
    "        grade_report += \"\"\" Most projects tend to be\n",
    "        geared towards younger students. 70k projects were submitted for pre-k to 2nd grade students \n",
    "        vs. 17k for high school students. \"\"\"\n",
    "        \n",
    "    essay_report = f\"\"\" As it should, your essays are the most important part of your \n",
    "    application. Giving descriptive and well thought out essays is the best way to make \n",
    "    your application stand out. Applicantions that are approved typically have about 5-7 words\n",
    "    in their titles with some higher, your title has {user_input[\"project_title_wc\"]} words, based on raw\n",
    "    correlations this gives your application a {(user_input[\"project_title_wc\"] * 0.21) * 100}% boost. \n",
    "    Your essays have an average of {average_wc} words each. Successful essays typically have word counts from 110 to 150.\n",
    "    \n",
    "    \"\"\"\n",
    "    \n",
    "    return essay_report, grade_report, subject_report"
   ]
  },
  {
   "cell_type": "code",
   "execution_count": 8,
   "metadata": {},
   "outputs": [
    {
     "data": {
      "text/plain": [
       "(' As it should, your essays are the most important part of your \\n    application. Giving descriptive and well thought out essays is the best way to make \\n    your application stand out. Applicantions that are approved typically have about 5-7 words\\n    in their titles with some higher, your title has 1 words, based on raw\\n    correlations this gives your application a 21.0% boost. \\n    Your essays have an average of 1.0 words each. Successful essays typically have word counts from 110 to 150.\\n    \\n    ',\n",
       " ' Projects submitted for the 3rd to 5th grades have the\\n        highest acceptance rate compared to other categories. Most projects tend to be\\n        geared towards younger students. 70k projects were submitted for pre-k to 2nd grade students \\n        vs. 17k for high school students. \\n        ',\n",
       " '\\n        your subject Math & Science is in the top three most common categories applicants apply for, \\n        subjects that are not in the top three: Health & Sports, Math & Science, Literacy & Language have\\n        a slightly higher chance of being approved, though by listing a sub category this penalty is mostly nullified\\n        ')"
      ]
     },
     "execution_count": 8,
     "metadata": {},
     "output_type": "execute_result"
    }
   ],
   "source": [
    "essay_report, grade_report, subject_report = user_report(user_input)"
   ]
  },
  {
   "cell_type": "code",
   "execution_count": null,
   "metadata": {},
   "outputs": [],
   "source": []
  }
 ],
 "metadata": {
  "kernelspec": {
   "display_name": "Python [default]",
   "language": "python",
   "name": "python3"
  },
  "language_info": {
   "codemirror_mode": {
    "name": "ipython",
    "version": 3
   },
   "file_extension": ".py",
   "mimetype": "text/x-python",
   "name": "python",
   "nbconvert_exporter": "python",
   "pygments_lexer": "ipython3",
   "version": "3.6.3"
  }
 },
 "nbformat": 4,
 "nbformat_minor": 2
}
